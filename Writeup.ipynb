{
 "cells": [
  {
   "cell_type": "markdown",
   "id": "a449f233",
   "metadata": {},
   "source": [
    "### CMSE 202 Final Project, Section 003\n",
    "\n",
    "Benjamin Laubach, Sanskriti Verma, Carrie Neilsen, Tori Fallon, Ella Kovach and Jason Williams"
   ]
  },
  {
   "cell_type": "markdown",
   "id": "4d1efd38",
   "metadata": {},
   "source": [
    "## Research Question\n",
    "\n",
    "How do varying factors affect moss gorth in the environment?"
   ]
  },
  {
   "cell_type": "markdown",
   "id": "5014bb75",
   "metadata": {},
   "source": [
    "## Background and Motivation\n",
    "\n"
   ]
  },
  {
   "cell_type": "markdown",
   "id": "917b763b",
   "metadata": {},
   "source": [
    "Our project is an Agent Based Model (ABM) similar to those that we have focused on in class, we took inspiration from the environment class from homework 3 as well as the bacteria model earlier in the semester. When thinking about how to approach this project we discussed the basic needs of the model which included creating a board and then having a class for the growth of the moss. From some research we arrived at the conclusion that weeds are a direct competitor to moss growth as well as trees, these were two features we wanted to include in our classes as well as some others which included the level or moisture in the ground so whethere the moss was growing on wet land or dry land. \n",
    "\n",
    "..."
   ]
  },
  {
   "cell_type": "markdown",
   "id": "501c432b",
   "metadata": {},
   "source": [
    "* think complexity"
   ]
  },
  {
   "cell_type": "markdown",
   "id": "e5320dd1",
   "metadata": {},
   "source": [
    "## Methodology"
   ]
  },
  {
   "cell_type": "code",
   "execution_count": null,
   "id": "dfe137a1",
   "metadata": {},
   "outputs": [],
   "source": [
    "#Insert Code"
   ]
  },
  {
   "cell_type": "markdown",
   "id": "50d1304d",
   "metadata": {},
   "source": [
    "## Discussion and Conclusion"
   ]
  },
  {
   "cell_type": "markdown",
   "id": "a51bcbb3",
   "metadata": {},
   "source": [
    "### Overview of the classes \n",
    "\n",
    "The moss class is similar in ways to the animal class from homework three, inspiration was taken from the age functions and the check if dead function. We set an age limit of 5 iterations for each moss, the check if dead function takes this age limit and compares it to each moss on the board and returns a true or false value. **WORKING ON CODE TO REMOVE THE MOSS IF DEAD** From here we have a replicate function which randomises the adjacent cells on the board, after picking a random cell there is a code which checks the cell type whether a wet or dry land cell type as this affects the growth rate of the moss. Once the code has checked through all of the variables a moss replicate is spawned in a random adjacent cell...\n",
    "\n",
    "\n",
    "\n",
    "After doing some research into what affects moss growth we decided to include two other classes, the first being the weed class which adds a competitor alongside the moss. This was the first layer of complexity that we added to our model. The init function initialises the same inputs as the moss class, then uses the moss class to reinitialise these input in the new class. In these case the moss class is acting as a parent or base class and the weed class is acting as a child or derived class. The replicate class is the same for both the moss and weed class as mentioned above it checks through a list of parameter to randomise where the new weed will spawn from...\n",
    "\n",
    "\n",
    "The second layer of complexity we included was by creating an environment class, the aim of this class was to create the addition of trees and ground mositure into our ABM model. For the environment class the 'init' function differs from both the moss and weed class. The new 'init' function initialises the number of trees and their radius, this allows the next function 'place trees' to take the number of trees (if greater than zero) and randomise an x and y coordinate and sets it equal to 2. The function then uses a for loop to iterate over all of the cells within the tree's (circle's) radius and sets two conidition: if i**2 + j**2 > (self.tree_radius-1)**2 is true then self.environ[x][y] = 4 else: self.environ[x][y] = 2..."
   ]
  },
  {
   "cell_type": "markdown",
   "id": "b8205eb9",
   "metadata": {},
   "source": [
    "## References"
   ]
  }
 ],
 "metadata": {
  "kernelspec": {
   "display_name": "Python 3",
   "language": "python",
   "name": "python3"
  },
  "language_info": {
   "codemirror_mode": {
    "name": "ipython",
    "version": 3
   },
   "file_extension": ".py",
   "mimetype": "text/x-python",
   "name": "python",
   "nbconvert_exporter": "python",
   "pygments_lexer": "ipython3",
   "version": "3.8.8"
  }
 },
 "nbformat": 4,
 "nbformat_minor": 5
}
