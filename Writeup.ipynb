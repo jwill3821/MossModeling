{
 "cells": [
  {
   "cell_type": "markdown",
   "id": "a449f233",
   "metadata": {},
   "source": [
    "### CMSE 202 Final Project, Section 003\n",
    "\n",
    "Benjamin Laubach, Sanskriti Verma, Carrie Neilsen, Tori Fallon, Ella Kovach and Jason Williams"
   ]
  },
  {
   "cell_type": "markdown",
   "id": "4d1efd38",
   "metadata": {},
   "source": [
    "## Research Question\n",
    "\n",
    "How do varying factors affect moss gorth in the environment?"
   ]
  },
  {
   "cell_type": "markdown",
   "id": "5014bb75",
   "metadata": {},
   "source": [
    "## Background and Motivation\n",
    "\n"
   ]
  },
  {
   "cell_type": "markdown",
   "id": "917b763b",
   "metadata": {},
   "source": [
    "Our project is an Agent Based Model (ABM) similar to those that we have focused on in class, we took inspiration from the environment class from homework 3 as well as the bacteria model earlier in the semester. When thinking about how to approach this project we discussed the basic needs of the model which included creating a board and then having a class for the growth of the moss. From some research we arrived at the conclusion that weeds are a direct competitor to moss growth as well as trees, these were two features we wanted to include in our classes as well as some others which included the level or moisture in the ground so whethere the moss was growing on wet land or dry land. \n",
    "\n",
    "..."
   ]
  },
  {
   "cell_type": "markdown",
   "id": "501c432b",
   "metadata": {},
   "source": [
    "* think complexity"
   ]
  },
  {
   "cell_type": "markdown",
   "id": "e5320dd1",
   "metadata": {},
   "source": [
    "## Methodology"
   ]
  },
  {
   "cell_type": "code",
   "execution_count": null,
   "id": "dfe137a1",
   "metadata": {},
   "outputs": [],
   "source": [
    "#Insert Code"
   ]
  },
  {
   "cell_type": "markdown",
   "id": "50d1304d",
   "metadata": {},
   "source": [
    "## Discussion and Conclusion"
   ]
  },
  {
   "cell_type": "markdown",
   "id": "bf70fdfc",
   "metadata": {},
   "source": [
    "### Overview of the classes \n",
    "\n",
    "**MOSS CLASS:Our base class for our model is the moss class. The moss class is similar in ways to the animal class from homework three, inspiration was taken from the age functions and the check if dead function.**\n",
    "\n",
    "* Our first function is the 'init' function, this initialises the basic variables which are used in our code. we needed to initialise the: maximum x position, maximum y position, the sex, the shape and the growth rate. This defines parameters for both the ABM board as well as for the moss itself.\n",
    "\n",
    "\n",
    "* We defined a function \"aging\", this is a basic function which updated the age of the moss after every iteration. This function is paired with the \"check if dead\" function which sets an age limit of 5 iterations for each moss, the \"check if dead\" function takes this age limit and compares it to each moss on the board and returns a true or false value as to whether each moss has reached the age limit or not. If the moss is determined to be dead, this is then removed from the board in the environment class.\n",
    "\n",
    "\n",
    "* The \"replicate\" function finds all of the adjacent cells for each of the mosses from here it then randomises the order of the adjacent cells on the board, using a for loop the code picks a random cell which is first checked to be within the bounds of the environment. Once the cell is determined to with within the bounds the code determines if the cell is empty or not, if the cell is empty then moss can grow in the cell. To determine the rate of growth the code checks the cell type as to whether the cell is fertile or dry land, moss can grow on both but the fertile land has a growth rate of 0.9 compared to the dry lands growth rate of 0.3. Once the code has checked through all of the variables a moss replicate is spawned in a random adjacent cell, this step is repeated numerously throughout the stimulation. There is a final if statement which removes any previous occupants of the cell from the board if a new occupant has grown there.\n",
    "\n",
    "\n",
    "\n",
    "**WEED CLASS: After doing some research into what affects moss growth we decided to include two other classes, the first being the weed class which adds a competitor alongside the moss. This was the first layer of complexity that we added to our model.**\n",
    "\n",
    "\n",
    "* The init function initialises the same inputs as the moss class, then uses the moss class to reinitialise these inputs in the new class. In these cases, the moss class is acting as a parent or base class and the weed class is acting as a child or derived class.\n",
    "\n",
    "\n",
    "* The replicate class is the same for both the moss and weed classes as mentioned above it checks through a list of parameters to randomise where the new weed will spawn from, this is similar to the moss class for this function. The main difference between the two replicate functions is that the code now produces a weed instead of a moss and that the weeds are able to grow on top of the moss as they are the main competitor. This is the same as dry land vs fertile land for the moss replicate function except the growth rate for weeds on top of a cell containing moss is 0.65\n",
    "\n",
    "\n",
    "**ENVIRONMENT CLASS: The second layer of complexity we included was by creating an environment class, the aim of this class was to create the addition of trees and ground moisture into our ABM model. For the environment class, the 'init' function differs from both the moss and weed classes.**\n",
    "\n",
    "\n",
    "* The new 'init' function initialises the number of trees and their radius, this allows the next function 'place trees' to take the number of trees (if greater than zero) and randomise an x and y coordinate and sets it equal to 2, this is now considered a cell where a tree has been built. \n",
    "\n",
    "\n",
    "* The \"place trees\" function then uses a for loop to iterate over all of the cells around and in the tree's (circle's) radius, if the cell is in the circle radius then the tree is \"built\" in that cell. It does this by randomaising x and y coordinates to place the tree on the board. Once the tree coordinates have been set a for loop iterates over a range of ± the tree radius. There are two conditions, the first being if $i^2$ + $j^2$ <= self.tree_radius$^2$, this is used to set the x and y coordinates for where the tree is subsequently placed. The second condition is if $i^2$ + $j^2$ > (self.tree_radius-1)$^2$: then self.environ[x][y] = 4. In this condition the tree is not placed. If the sum of the squares of i and j is equal to 4, the cell is considered to be fertile land which is available for both moss and weeds to grow whereas if the sum of the sqaures of i and j is 2 then the cell is considered to have something already built inside it whether that is a moss, a weed or a tree.\n",
    "\n",
    "\n",
    "* The \"add agent\" function appends the agent to a list followed by its coordinates, a for loop is then used to iterate the coordinates for Moss and setting the coordinates equal to 0 otherwise the coordinates are equal to -1.\n",
    "\n",
    "Notes - Tori\n",
    "\n",
    "Can grow on:\n",
    "\n",
    "weeds: 1,4,0\n",
    "\n",
    "moss: 1,3,4\n",
    "\n",
    "0-moss\n",
    "\n",
    "1- normal land\n",
    "\n",
    "3 -dry land\n",
    "\n",
    "4-fertile land\n",
    "\n",
    "\n",
    "## Conclusions to determine\n",
    "\n",
    "* number of trees\n",
    "* radius of trees"
   ]
  },
  {
   "cell_type": "markdown",
   "id": "b8205eb9",
   "metadata": {},
   "source": [
    "## References"
   ]
  }
 ],
 "metadata": {
  "kernelspec": {
   "display_name": "Python 3",
   "language": "python",
   "name": "python3"
  },
  "language_info": {
   "codemirror_mode": {
    "name": "ipython",
    "version": 3
   },
   "file_extension": ".py",
   "mimetype": "text/x-python",
   "name": "python",
   "nbconvert_exporter": "python",
   "pygments_lexer": "ipython3",
   "version": "3.8.8"
  }
 },
 "nbformat": 4,
 "nbformat_minor": 5
}
