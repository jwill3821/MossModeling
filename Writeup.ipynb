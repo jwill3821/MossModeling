{
 "cells": [
  {
   "cell_type": "markdown",
   "id": "a449f233",
   "metadata": {},
   "source": [
    "### CMSE 202 Final Project, Section 003\n",
    "\n",
    "Benjamin Laubach, Sanskriti Verma, Carrie Neilsen, Tori Fallon, Ella Kovach and Jason Williams"
   ]
  },
  {
   "cell_type": "markdown",
   "id": "4d1efd38",
   "metadata": {},
   "source": [
    "## Research Question\n",
    "\n",
    "How do varying factors affect moss gorth in the environment?"
   ]
  },
  {
   "cell_type": "markdown",
   "id": "5014bb75",
   "metadata": {},
   "source": [
    "## Background and Motivation\n",
    "\n"
   ]
  },
  {
   "cell_type": "markdown",
   "id": "917b763b",
   "metadata": {},
   "source": [
    "Our project is an Agent Based Model (ABM) similar to those that we have focused on in class, we took inspiration from the environment class from homework 3 as well as the bacteria model earlier in the semester. When thinking about how to approach this project we discussed the basic needs of the model which included creating a board and then having a class for the growth of the moss. "
   ]
  },
  {
   "cell_type": "markdown",
   "id": "501c432b",
   "metadata": {},
   "source": [
    "* think complexity"
   ]
  },
  {
   "cell_type": "markdown",
   "id": "e5320dd1",
   "metadata": {},
   "source": [
    "## Methodology"
   ]
  },
  {
   "cell_type": "code",
   "execution_count": null,
   "id": "dfe137a1",
   "metadata": {},
   "outputs": [],
   "source": [
    "#Insert Code"
   ]
  },
  {
   "cell_type": "markdown",
   "id": "50d1304d",
   "metadata": {},
   "source": [
    "## Discussion and Conclusion"
   ]
  },
  {
   "cell_type": "markdown",
   "id": "a51bcbb3",
   "metadata": {},
   "source": [
    "The moss class is similar in ways to the animal class from homework three, inspiration was taken from the age functions and the check if dead function. We set an age limit of 5 iterations for each moss, the check if dead function takes this age limit and compares it to each moss on the board and returns a true or false value. **WORKING ON CODE TO REMOVE THE MOSS IF DEAD** From here we have a replicate function which randomises the adjacent cells on the board, after picking a random cell there is a code which checks the cell type whether a wet or dry land cell type as this affects the growth rate of the moss. Once the code has checked through all of the variables a moss replicate is spawned in a random adjacent cell\n",
    "\n",
    "\n",
    "\n",
    "After doing some research into what affects moss growth we decided to include two other classes, the first being the weed class which adds a competitor "
   ]
  },
  {
   "cell_type": "markdown",
   "id": "b8205eb9",
   "metadata": {},
   "source": [
    "## References"
   ]
  }
 ],
 "metadata": {
  "kernelspec": {
   "display_name": "Python 3",
   "language": "python",
   "name": "python3"
  },
  "language_info": {
   "codemirror_mode": {
    "name": "ipython",
    "version": 3
   },
   "file_extension": ".py",
   "mimetype": "text/x-python",
   "name": "python",
   "nbconvert_exporter": "python",
   "pygments_lexer": "ipython3",
   "version": "3.8.8"
  }
 },
 "nbformat": 4,
 "nbformat_minor": 5
}
