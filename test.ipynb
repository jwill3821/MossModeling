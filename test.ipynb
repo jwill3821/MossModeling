{
 "cells": [
  {
   "cell_type": "code",
   "execution_count": 66,
   "id": "227a393d",
   "metadata": {},
   "outputs": [],
   "source": [
    "import random\n",
    "import numpy as np\n",
    "import matplotlib.pyplot as plt\n",
    "\n",
    "class MossAgent:\n",
    "    def __init__(self, x, y):\n",
    "        self.x = x\n",
    "        self.y = y\n",
    "    \n",
    "    def replicate(self, grid):\n",
    "        # Check for adjacent empty cells\n",
    "        for dx in [-1, 0, 1]:\n",
    "            for dy in [-1, 0, 1]:\n",
    "                if dx == 0 and dy == 0:\n",
    "                    continue\n",
    "                nx = self.x + dx\n",
    "                ny = self.y + dy\n",
    "                if nx < 0 or nx >= len(grid) or ny < 0 or ny >= len(grid[0]):\n",
    "                    continue\n",
    "                if grid[nx][ny] is None:\n",
    "                    # Spawn new moss agent\n",
    "                    new_moss = MossAgent(nx, ny)\n",
    "                    grid[nx][ny] = new_moss\n",
    "    \n",
    "class Environment:\n",
    "    def __init__(self, width, height):\n",
    "        self.width = width\n",
    "        self.height = height\n",
    "        self.grid = [[None for j in range(height)] for i in range(width)]\n",
    "        # Spawn a single moss point randomly\n",
    "        x = random.randint(0, width - 1)\n",
    "        y = random.randint(0, height - 1)\n",
    "        self.grid[x][y] = MossAgent(x, y)\n",
    "    \n",
    "    def step(self):\n",
    "        # Create a list of moss agents to replicate to avoid modifying the grid in-place during iteration\n",
    "        agents_to_replicate = []\n",
    "        for i in range(self.width):\n",
    "            for j in range(self.height):\n",
    "                agent = self.grid[i][j]\n",
    "                if agent is not None:\n",
    "                    agents_to_replicate.append(agent)\n",
    "        \n",
    "        # Loop through all moss agents in the list and replicate onto adjacent empty cells\n",
    "        for agent in agents_to_replicate:\n",
    "            agent.replicate(self.grid)\n",
    "    \n",
    "    def visualize(self):\n",
    "        fig, ax = plt.subplots()\n",
    "        plt.axis('off')\n",
    "        for i in range(20):  # simulate 20 steps\n",
    "            # Create a NumPy array to store the visualization data\n",
    "            data = np.zeros((self.width, self.height))\n",
    "            for i in range(self.width):\n",
    "                for j in range(self.height):\n",
    "                    if self.grid[i][j] is not None:\n",
    "                        data[i][j] = 1\n",
    "            \n",
    "            # Clear the previous plot and plot the new data using Matplotlib\n",
    "            ax.clear()\n",
    "            ax.imshow(data, cmap='Greens', interpolation='nearest')\n",
    "            plt.pause(0.1)\n",
    "            self.step()\n",
    "        \n",
    "        plt.show()\n",
    "\n"
   ]
  },
  {
   "cell_type": "code",
   "execution_count": 65,
   "id": "d051b44b",
   "metadata": {},
   "outputs": [
    {
     "data": {
      "image/png": "[encoded data removed]",
      "text/plain": [
       "<Figure size 432x288 with 1 Axes>"
      ]
     },
     "metadata": {},
     "output_type": "display_data"
    }
   ],
   "source": [
    "env = Environment(20, 20)\n",
    "env.visualize()\n"
   ]
  },
  {
   "cell_type": "code",
   "execution_count": null,
   "id": "5a053877",
   "metadata": {},
   "outputs": [],
   "source": []
  },
  {
   "cell_type": "code",
   "execution_count": null,
   "id": "91625dd8",
   "metadata": {},
   "outputs": [],
   "source": []
  }
 ],
 "metadata": {
  "kernelspec": {
   "display_name": "Python 3",
   "language": "python",
   "name": "python3"
  },
  "language_info": {
   "codemirror_mode": {
    "name": "ipython",
    "version": 3
   },
   "file_extension": ".py",
   "mimetype": "text/x-python",
   "name": "python",
   "nbconvert_exporter": "python",
   "pygments_lexer": "ipython3",
   "version": "3.8.8"
  }
 },
 "nbformat": 4,
 "nbformat_minor": 5
}
